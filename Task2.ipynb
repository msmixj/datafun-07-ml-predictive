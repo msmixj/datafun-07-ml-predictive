{
 "cells": [
  {
   "cell_type": "markdown",
   "id": "b395d674-b4ef-49e1-8f03-e5f2c20e2aa1",
   "metadata": {},
   "source": [
    "# Task 2 - Chapter 15, Machine Learning"
   ]
  },
  {
   "cell_type": "markdown",
   "id": "4fe76d4e-851b-462e-81e4-5608596c164b",
   "metadata": {},
   "source": [
    "Task2.ipynb"
   ]
  },
  {
   "cell_type": "markdown",
   "id": "097814a3-a7d9-4d43-8407-49beb2f06288",
   "metadata": {},
   "source": [
    "## Susie Smith"
   ]
  },
  {
   "cell_type": "markdown",
   "id": "71dc3ec3-9e3b-42ba-8fe7-8de7ade3963c",
   "metadata": {},
   "source": [
    "## February 28, 2023"
   ]
  },
  {
   "cell_type": "markdown",
   "id": "493fd3aa-c07f-48b1-abad-38e17dd1f4e0",
   "metadata": {},
   "source": [
    "**15.1 - Introduction to Machine Learning; Read and Understand Examples - Complete**"
   ]
  },
  {
   "cell_type": "markdown",
   "id": "381c7659-199b-48cf-a258-655ad8a66d8a",
   "metadata": {},
   "source": [
    "**15.2 - Case Study: Classification with k-Nearest Neighbors and the Digits Dataset, Part I**"
   ]
  },
  {
   "cell_type": "markdown",
   "id": "a90b52f2-4240-4dbc-a8f6-8d10a03ffa2a",
   "metadata": {},
   "source": [
    "Loading the Dataset"
   ]
  },
  {
   "cell_type": "code",
   "execution_count": 2,
   "id": "2133bbc0-3051-4431-8572-37efe636ab25",
   "metadata": {},
   "outputs": [
    {
     "ename": "ModuleNotFoundError",
     "evalue": "No module named 'sklearn'",
     "output_type": "error",
     "traceback": [
      "\u001b[1;31m---------------------------------------------------------------------------\u001b[0m",
      "\u001b[1;31mModuleNotFoundError\u001b[0m                       Traceback (most recent call last)",
      "Cell \u001b[1;32mIn[2], line 1\u001b[0m\n\u001b[1;32m----> 1\u001b[0m \u001b[38;5;28;01mfrom\u001b[39;00m \u001b[38;5;21;01msklearn\u001b[39;00m\u001b[38;5;21;01m.\u001b[39;00m\u001b[38;5;21;01mdatasets\u001b[39;00m \u001b[38;5;28;01mimport\u001b[39;00m load_digits\n",
      "\u001b[1;31mModuleNotFoundError\u001b[0m: No module named 'sklearn'"
     ]
    }
   ],
   "source": [
    "from sklearn.datasets import load_digits"
   ]
  }
 ],
 "metadata": {
  "kernelspec": {
   "display_name": "Python 3 (ipykernel)",
   "language": "python",
   "name": "python3"
  },
  "language_info": {
   "codemirror_mode": {
    "name": "ipython",
    "version": 3
   },
   "file_extension": ".py",
   "mimetype": "text/x-python",
   "name": "python",
   "nbconvert_exporter": "python",
   "pygments_lexer": "ipython3",
   "version": "3.10.8"
  }
 },
 "nbformat": 4,
 "nbformat_minor": 5
}
