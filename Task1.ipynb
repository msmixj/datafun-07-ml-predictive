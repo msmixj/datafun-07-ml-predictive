{
 "cells": [
  {
   "cell_type": "markdown",
   "id": "c7576b56-a431-410b-88fa-c3ff77d499f7",
   "metadata": {},
   "source": [
    "# Task 1 - Chapter 10, Object-Oriented Programming"
   ]
  },
  {
   "cell_type": "markdown",
   "id": "33c3bfc4-3203-4234-8029-965f3bd45f84",
   "metadata": {},
   "source": [
    "Task1.ipynb"
   ]
  },
  {
   "cell_type": "markdown",
   "id": "fce050ea-76a7-4930-a951-58e6e37efff9",
   "metadata": {},
   "source": [
    "## Susie Smith"
   ]
  },
  {
   "cell_type": "markdown",
   "id": "cb31e1cc-842d-4b4a-af45-7869386cfebe",
   "metadata": {},
   "source": [
    "## February 28, 2023"
   ]
  },
  {
   "cell_type": "markdown",
   "id": "3e907648-d56f-4007-80e1-4ff311b4973d",
   "metadata": {},
   "source": [
    "**10.1 - Introduction - Read and understand examples: Complete**"
   ]
  },
  {
   "cell_type": "markdown",
   "id": "447bc35e-c8e3-4e17-9fe4-f9b7cb2e6064",
   "metadata": {},
   "source": [
    "**10.2 - Custom Class**"
   ]
  },
  {
   "cell_type": "code",
   "execution_count": 1,
   "id": "c149751a-ce21-48cc-b7f5-3786b55a1b19",
   "metadata": {},
   "outputs": [],
   "source": [
    "from account import Account"
   ]
  },
  {
   "cell_type": "code",
   "execution_count": 2,
   "id": "9ac61f53-1841-48b9-9d03-e8ec52cfaa7b",
   "metadata": {},
   "outputs": [],
   "source": [
    "from decimal import Decimal"
   ]
  },
  {
   "cell_type": "code",
   "execution_count": 3,
   "id": "94da7a43-a52d-434b-a4c3-e07271cc9417",
   "metadata": {},
   "outputs": [],
   "source": [
    "value = Decimal('12.34') #Creating a decimal object"
   ]
  },
  {
   "cell_type": "code",
   "execution_count": 4,
   "id": "bed24c42-6da0-47ab-9c1e-66453122fad7",
   "metadata": {},
   "outputs": [],
   "source": [
    "account1 = Account('John Green', Decimal('50.00')) #Using a constructor expression to create an Account\n",
    "                                                    #object and initialize it with an account holder's name \n",
    "                                                    #(a string) and balance (a Decimal)"
   ]
  },
  {
   "cell_type": "code",
   "execution_count": 5,
   "id": "bc62468a-e0a4-4dc6-a22f-e02423b1fdbf",
   "metadata": {},
   "outputs": [
    {
     "data": {
      "text/plain": [
       "'John Green'"
      ]
     },
     "execution_count": 5,
     "metadata": {},
     "output_type": "execute_result"
    }
   ],
   "source": [
    "account1.name #Accessing the Account object's name"
   ]
  },
  {
   "cell_type": "code",
   "execution_count": 6,
   "id": "e78f9cf3-8267-41fe-b16f-17045a77d0f9",
   "metadata": {},
   "outputs": [
    {
     "data": {
      "text/plain": [
       "Decimal('50.00')"
      ]
     },
     "execution_count": 6,
     "metadata": {},
     "output_type": "execute_result"
    }
   ],
   "source": [
    "account1.balance #Accessing the Account object's balance attributes"
   ]
  },
  {
   "cell_type": "code",
   "execution_count": 7,
   "id": "317074fd-6f92-47d3-bc9c-e5ab4ef9c13f",
   "metadata": {},
   "outputs": [],
   "source": [
    "account1.deposit(Decimal('25.53')) #Receive a positive dollar amount and add it to the balance"
   ]
  },
  {
   "cell_type": "code",
   "execution_count": 8,
   "id": "1a005b42-d1e9-4f85-9924-5980d16068aa",
   "metadata": {},
   "outputs": [
    {
     "data": {
      "text/plain": [
       "Decimal('75.53')"
      ]
     },
     "execution_count": 8,
     "metadata": {},
     "output_type": "execute_result"
    }
   ],
   "source": [
    "account1.balance"
   ]
  },
  {
   "cell_type": "code",
   "execution_count": 9,
   "id": "61d9f1db-c327-41cf-b3e7-325cc67fc6d7",
   "metadata": {},
   "outputs": [
    {
     "ename": "ValueError",
     "evalue": "amount must be positive.",
     "output_type": "error",
     "traceback": [
      "\u001b[1;31m---------------------------------------------------------------------------\u001b[0m",
      "\u001b[1;31mValueError\u001b[0m                                Traceback (most recent call last)",
      "Cell \u001b[1;32mIn[9], line 1\u001b[0m\n\u001b[1;32m----> 1\u001b[0m \u001b[43maccount1\u001b[49m\u001b[38;5;241;43m.\u001b[39;49m\u001b[43mdeposit\u001b[49m\u001b[43m(\u001b[49m\u001b[43mDecimal\u001b[49m\u001b[43m(\u001b[49m\u001b[38;5;124;43m'\u001b[39;49m\u001b[38;5;124;43m-123.45\u001b[39;49m\u001b[38;5;124;43m'\u001b[39;49m\u001b[43m)\u001b[49m\u001b[43m)\u001b[49m \u001b[38;5;66;03m#If a deposit amount is negative, deposit raises a ValueError\u001b[39;00m\n",
      "File \u001b[1;32m~\\Documents\\IntroToPython-master\\examples\\ch10\\account.py:23\u001b[0m, in \u001b[0;36mAccount.deposit\u001b[1;34m(self, amount)\u001b[0m\n\u001b[0;32m     21\u001b[0m \u001b[38;5;66;03m# if amount is less than 0.00, raise an exception\u001b[39;00m\n\u001b[0;32m     22\u001b[0m \u001b[38;5;28;01mif\u001b[39;00m amount \u001b[38;5;241m<\u001b[39m Decimal(\u001b[38;5;124m'\u001b[39m\u001b[38;5;124m0.00\u001b[39m\u001b[38;5;124m'\u001b[39m):\n\u001b[1;32m---> 23\u001b[0m     \u001b[38;5;28;01mraise\u001b[39;00m \u001b[38;5;167;01mValueError\u001b[39;00m(\u001b[38;5;124m'\u001b[39m\u001b[38;5;124mamount must be positive.\u001b[39m\u001b[38;5;124m'\u001b[39m)\n\u001b[0;32m     25\u001b[0m \u001b[38;5;28mself\u001b[39m\u001b[38;5;241m.\u001b[39mbalance \u001b[38;5;241m+\u001b[39m\u001b[38;5;241m=\u001b[39m amount\n",
      "\u001b[1;31mValueError\u001b[0m: amount must be positive."
     ]
    }
   ],
   "source": [
    "account1.deposit(Decimal('-123.45')) #If a deposit amount is negative, deposit raises a ValueError"
   ]
  },
  {
   "cell_type": "markdown",
   "id": "5ebbff39-e684-4e18-9584-fa73fd853620",
   "metadata": {},
   "source": [
    "**10.3 - Controlling Access to the Attributes**"
   ]
  },
  {
   "cell_type": "code",
   "execution_count": 10,
   "id": "4126e9f2-3104-41d0-974e-e18b3634a575",
   "metadata": {},
   "outputs": [],
   "source": [
    "from account import Account"
   ]
  },
  {
   "cell_type": "code",
   "execution_count": 11,
   "id": "9a76ab5c-15b1-4a5b-b936-3632c9485520",
   "metadata": {},
   "outputs": [],
   "source": [
    "from decimal import Decimal"
   ]
  },
  {
   "cell_type": "code",
   "execution_count": 12,
   "id": "2143a0ac-9726-48e1-9315-64f7077259ad",
   "metadata": {},
   "outputs": [],
   "source": [
    "account1 = Account('John Green', Decimal('50.00'))"
   ]
  },
  {
   "cell_type": "code",
   "execution_count": 13,
   "id": "acebba27-7115-4786-8a03-f1744ade33d2",
   "metadata": {},
   "outputs": [
    {
     "data": {
      "text/plain": [
       "Decimal('50.00')"
      ]
     },
     "execution_count": 13,
     "metadata": {},
     "output_type": "execute_result"
    }
   ],
   "source": [
    "account1.balance"
   ]
  },
  {
   "cell_type": "code",
   "execution_count": 14,
   "id": "e3ac4214-d378-4ab9-a0de-49c5619ba62d",
   "metadata": {},
   "outputs": [],
   "source": [
    "account1.balance = Decimal('-1000.00') #Setting the balance attribute to an invalid negative value"
   ]
  },
  {
   "cell_type": "code",
   "execution_count": 15,
   "id": "8e311492-3071-40dc-a399-b4dd52627db6",
   "metadata": {},
   "outputs": [
    {
     "data": {
      "text/plain": [
       "Decimal('-1000.00')"
      ]
     },
     "execution_count": 15,
     "metadata": {},
     "output_type": "execute_result"
    }
   ],
   "source": [
    "account1.balance #Displaying the balance"
   ]
  },
  {
   "cell_type": "markdown",
   "id": "427f7f4f-b0db-48ce-ab9f-258d728ca0bc",
   "metadata": {},
   "source": [
    "**10.4 Properties for Data Access**"
   ]
  },
  {
   "cell_type": "code",
   "execution_count": 25,
   "id": "88861699-9392-41d8-9c31-818e97c9764f",
   "metadata": {},
   "outputs": [],
   "source": [
    "from timewithproperties import Time"
   ]
  },
  {
   "cell_type": "code",
   "execution_count": 26,
   "id": "1c918e22-5352-4846-a7ae-eb46def6a02e",
   "metadata": {},
   "outputs": [],
   "source": [
    "wake_up = Time(hour=6, minute=30) #Creating a Time object, specifying hour & minute; second defaults to 0."
   ]
  },
  {
   "cell_type": "code",
   "execution_count": 27,
   "id": "23e5cd9b-8a22-4d7b-bc04-bc7ace3fd2c5",
   "metadata": {},
   "outputs": [
    {
     "data": {
      "text/plain": [
       "Time(hour=6, minute=30, second=0)"
      ]
     },
     "execution_count": 27,
     "metadata": {},
     "output_type": "execute_result"
    }
   ],
   "source": [
    "wake_up #Displaying a Time Object"
   ]
  },
  {
   "cell_type": "code",
   "execution_count": 28,
   "id": "1a8c119d-85e4-49a9-be30-0109ff2f57a0",
   "metadata": {},
   "outputs": [
    {
     "name": "stdout",
     "output_type": "stream",
     "text": [
      "6:30:00 AM\n"
     ]
    }
   ],
   "source": [
    "print(wake_up)"
   ]
  },
  {
   "cell_type": "code",
   "execution_count": 29,
   "id": "3becf44c-c355-4c6f-85b9-b2599a25abe3",
   "metadata": {},
   "outputs": [
    {
     "data": {
      "text/plain": [
       "6"
      ]
     },
     "execution_count": 29,
     "metadata": {},
     "output_type": "execute_result"
    }
   ],
   "source": [
    "wake_up.hour #Getting an Attribute Via a Property"
   ]
  },
  {
   "cell_type": "code",
   "execution_count": 30,
   "id": "a805e5f5-6c8b-43f8-93c4-9b2f3885d57d",
   "metadata": {},
   "outputs": [],
   "source": [
    "wake_up.set_time(hour=7, minute=45) #Setting the Time"
   ]
  },
  {
   "cell_type": "code",
   "execution_count": 31,
   "id": "6ac30908-20a9-4ce4-898b-fa639b37f6ef",
   "metadata": {},
   "outputs": [
    {
     "data": {
      "text/plain": [
       "Time(hour=7, minute=45, second=0)"
      ]
     },
     "execution_count": 31,
     "metadata": {},
     "output_type": "execute_result"
    }
   ],
   "source": [
    "wake_up"
   ]
  },
  {
   "cell_type": "code",
   "execution_count": 32,
   "id": "18c8c132-6b57-41b4-9bc9-fcbf85487599",
   "metadata": {},
   "outputs": [],
   "source": [
    "wake_up.hour = 6 #Setting an Attribute via a Property"
   ]
  },
  {
   "cell_type": "code",
   "execution_count": 33,
   "id": "31c24412-16dc-4fc3-96a4-0323599990ef",
   "metadata": {},
   "outputs": [
    {
     "data": {
      "text/plain": [
       "Time(hour=6, minute=45, second=0)"
      ]
     },
     "execution_count": 33,
     "metadata": {},
     "output_type": "execute_result"
    }
   ],
   "source": [
    "wake_up"
   ]
  },
  {
   "cell_type": "code",
   "execution_count": 34,
   "id": "6296f793-2d04-4bfc-8a55-72ee23cc55da",
   "metadata": {},
   "outputs": [
    {
     "ename": "ValueError",
     "evalue": "Hour (100) must be 0-23",
     "output_type": "error",
     "traceback": [
      "\u001b[1;31m---------------------------------------------------------------------------\u001b[0m",
      "\u001b[1;31mValueError\u001b[0m                                Traceback (most recent call last)",
      "Cell \u001b[1;32mIn[34], line 1\u001b[0m\n\u001b[1;32m----> 1\u001b[0m \u001b[43mwake_up\u001b[49m\u001b[38;5;241;43m.\u001b[39;49m\u001b[43mhour\u001b[49m \u001b[38;5;241m=\u001b[39m \u001b[38;5;241m100\u001b[39m \u001b[38;5;66;03m#Attempting to set an invalid value\u001b[39;00m\n",
      "File \u001b[1;32m~\\Documents\\IntroToPython-master\\examples\\ch10\\timewithproperties.py:22\u001b[0m, in \u001b[0;36mTime.hour\u001b[1;34m(self, hour)\u001b[0m\n\u001b[0;32m     20\u001b[0m \u001b[38;5;250m\u001b[39m\u001b[38;5;124;03m\"\"\"Set the hour.\"\"\"\u001b[39;00m\n\u001b[0;32m     21\u001b[0m \u001b[38;5;28;01mif\u001b[39;00m \u001b[38;5;129;01mnot\u001b[39;00m (\u001b[38;5;241m0\u001b[39m \u001b[38;5;241m<\u001b[39m\u001b[38;5;241m=\u001b[39m hour \u001b[38;5;241m<\u001b[39m \u001b[38;5;241m24\u001b[39m):\n\u001b[1;32m---> 22\u001b[0m     \u001b[38;5;28;01mraise\u001b[39;00m \u001b[38;5;167;01mValueError\u001b[39;00m(\u001b[38;5;124mf\u001b[39m\u001b[38;5;124m'\u001b[39m\u001b[38;5;124mHour (\u001b[39m\u001b[38;5;132;01m{\u001b[39;00mhour\u001b[38;5;132;01m}\u001b[39;00m\u001b[38;5;124m) must be 0-23\u001b[39m\u001b[38;5;124m'\u001b[39m)\n\u001b[0;32m     24\u001b[0m \u001b[38;5;28mself\u001b[39m\u001b[38;5;241m.\u001b[39m_hour \u001b[38;5;241m=\u001b[39m hour\n",
      "\u001b[1;31mValueError\u001b[0m: Hour (100) must be 0-23"
     ]
    }
   ],
   "source": [
    "wake_up.hour = 100 #Attempting to set an invalid value"
   ]
  },
  {
   "cell_type": "code",
   "execution_count": 35,
   "id": "f0880932-7f41-4397-b740-e6685ae20c7b",
   "metadata": {},
   "outputs": [],
   "source": [
    "from timewithproperties import Time"
   ]
  },
  {
   "cell_type": "code",
   "execution_count": 36,
   "id": "58e791e5-0c47-4d04-ab05-cc7d63289937",
   "metadata": {},
   "outputs": [],
   "source": [
    "wake_up = Time(hour=7, minute=45, second=30)"
   ]
  },
  {
   "cell_type": "code",
   "execution_count": 37,
   "id": "cef8287b-9b74-43ac-b982-770791ef50cc",
   "metadata": {},
   "outputs": [
    {
     "data": {
      "text/plain": [
       "7"
      ]
     },
     "execution_count": 37,
     "metadata": {},
     "output_type": "execute_result"
    }
   ],
   "source": [
    "wake_up._hour"
   ]
  },
  {
   "cell_type": "code",
   "execution_count": 38,
   "id": "88e3ffd0-0680-4a22-a148-04bca92886b6",
   "metadata": {},
   "outputs": [],
   "source": [
    "wake_up._hour = 100"
   ]
  },
  {
   "cell_type": "code",
   "execution_count": 39,
   "id": "210774d8-7e54-4951-8418-c65f10e0f9ad",
   "metadata": {},
   "outputs": [
    {
     "data": {
      "text/plain": [
       "Time(hour=100, minute=45, second=30)"
      ]
     },
     "execution_count": 39,
     "metadata": {},
     "output_type": "execute_result"
    }
   ],
   "source": [
    "wake_up"
   ]
  },
  {
   "cell_type": "markdown",
   "id": "ff11e8fa-d8a3-4cfe-8b97-c2d718a0e1bd",
   "metadata": {},
   "source": [
    "**10.5 - Simulating \"Private\" Attributes**"
   ]
  },
  {
   "cell_type": "code",
   "execution_count": 41,
   "id": "1285b393-7f5d-4491-9566-17fc1733bc69",
   "metadata": {},
   "outputs": [],
   "source": [
    "from private import PrivateClass #Creating an object of class PrivateData to demonstrate these data attributes."
   ]
  },
  {
   "cell_type": "code",
   "execution_count": 42,
   "id": "3b1b7d19-af6e-4628-a406-706f5001fffb",
   "metadata": {},
   "outputs": [],
   "source": [
    "my_object = PrivateClass()"
   ]
  },
  {
   "cell_type": "code",
   "execution_count": 43,
   "id": "0ebfa661-db43-4e6d-9431-1145607f6ada",
   "metadata": {},
   "outputs": [
    {
     "data": {
      "text/plain": [
       "'public'"
      ]
     },
     "execution_count": 43,
     "metadata": {},
     "output_type": "execute_result"
    }
   ],
   "source": [
    "my_object.public_data #Shows that we can access the public_data attribute directly."
   ]
  },
  {
   "cell_type": "code",
   "execution_count": 44,
   "id": "8d13723e-2b98-4ce3-b244-6013eb4ded12",
   "metadata": {},
   "outputs": [
    {
     "ename": "AttributeError",
     "evalue": "'PrivateClass' object has no attribute '__private_data'",
     "output_type": "error",
     "traceback": [
      "\u001b[1;31m---------------------------------------------------------------------------\u001b[0m",
      "\u001b[1;31mAttributeError\u001b[0m                            Traceback (most recent call last)",
      "Cell \u001b[1;32mIn[44], line 1\u001b[0m\n\u001b[1;32m----> 1\u001b[0m \u001b[43mmy_object\u001b[49m\u001b[38;5;241;43m.\u001b[39;49m\u001b[43m__private_data\u001b[49m \n",
      "\u001b[1;31mAttributeError\u001b[0m: 'PrivateClass' object has no attribute '__private_data'"
     ]
    }
   ],
   "source": [
    "my_object.__private_data #Showing python changed the attribute's name"
   ]
  },
  {
   "cell_type": "markdown",
   "id": "ebbe8704-c061-4b65-a768-12a60ffc3914",
   "metadata": {},
   "source": [
    "**10.6 - Case Study: Card Shuffling and Dealing Simulation**"
   ]
  },
  {
   "cell_type": "code",
   "execution_count": 53,
   "id": "8477645f-9f0a-48ed-ab81-dc7654b4a9c9",
   "metadata": {},
   "outputs": [],
   "source": [
    "from deck import DeckOfCards"
   ]
  },
  {
   "cell_type": "code",
   "execution_count": 54,
   "id": "47f5316c-1bcd-432d-b39e-254342af3dcf",
   "metadata": {},
   "outputs": [],
   "source": [
    "deck_of_cards = DeckOfCards()"
   ]
  },
  {
   "cell_type": "code",
   "execution_count": 55,
   "id": "20bcdb13-b2e5-4f42-a89f-f28ecd91c643",
   "metadata": {},
   "outputs": [
    {
     "name": "stdout",
     "output_type": "stream",
     "text": [
      "Ace of Hearts      2 of Hearts        3 of Hearts        4 of Hearts        \n",
      "5 of Hearts        6 of Hearts        7 of Hearts        8 of Hearts        \n",
      "9 of Hearts        10 of Hearts       Jack of Hearts     Queen of Hearts    \n",
      "King of Hearts     Ace of Diamonds    2 of Diamonds      3 of Diamonds      \n",
      "4 of Diamonds      5 of Diamonds      6 of Diamonds      7 of Diamonds      \n",
      "8 of Diamonds      9 of Diamonds      10 of Diamonds     Jack of Diamonds   \n",
      "Queen of Diamonds  King of Diamonds   Ace of Clubs       2 of Clubs         \n",
      "3 of Clubs         4 of Clubs         5 of Clubs         6 of Clubs         \n",
      "7 of Clubs         8 of Clubs         9 of Clubs         10 of Clubs        \n",
      "Jack of Clubs      Queen of Clubs     King of Clubs      Ace of Spades      \n",
      "2 of Spades        3 of Spades        4 of Spades        5 of Spades        \n",
      "6 of Spades        7 of Spades        8 of Spades        9 of Spades        \n",
      "10 of Spades       Jack of Spades     Queen of Spades    King of Spades     \n",
      "\n"
     ]
    }
   ],
   "source": [
    "print(deck_of_cards)"
   ]
  },
  {
   "cell_type": "code",
   "execution_count": 56,
   "id": "193cc1e9-bbe0-4721-b48e-fd6d20d183c2",
   "metadata": {},
   "outputs": [],
   "source": [
    "deck_of_cards.shuffle()"
   ]
  },
  {
   "cell_type": "code",
   "execution_count": 57,
   "id": "f61994ba-05da-483e-96e9-02a1fc293496",
   "metadata": {},
   "outputs": [
    {
     "name": "stdout",
     "output_type": "stream",
     "text": [
      "3 of Diamonds      King of Clubs      7 of Spades        6 of Clubs         \n",
      "6 of Diamonds      King of Diamonds   King of Hearts     3 of Clubs         \n",
      "4 of Spades        2 of Hearts        9 of Diamonds      8 of Hearts        \n",
      "3 of Spades        8 of Clubs         Queen of Hearts    Ace of Hearts      \n",
      "4 of Diamonds      Jack of Hearts     4 of Hearts        Ace of Diamonds    \n",
      "5 of Clubs         8 of Diamonds      Queen of Clubs     2 of Diamonds      \n",
      "Ace of Spades      7 of Diamonds      9 of Clubs         7 of Hearts        \n",
      "10 of Hearts       Jack of Clubs      3 of Hearts        2 of Clubs         \n",
      "Ace of Clubs       10 of Clubs        4 of Clubs         6 of Hearts        \n",
      "Jack of Spades     9 of Hearts        Queen of Diamonds  Queen of Spades    \n",
      "8 of Spades        5 of Hearts        Jack of Diamonds   6 of Spades        \n",
      "2 of Spades        10 of Spades       9 of Spades        10 of Diamonds     \n",
      "5 of Diamonds      King of Spades     7 of Clubs         5 of Spades        \n",
      "\n"
     ]
    }
   ],
   "source": [
    "print(deck_of_cards)"
   ]
  },
  {
   "cell_type": "code",
   "execution_count": 58,
   "id": "c52ba443-8e72-45a8-b2ed-bef66c476e27",
   "metadata": {},
   "outputs": [
    {
     "data": {
      "text/plain": [
       "Card(face='3', suit='Diamonds')"
      ]
     },
     "execution_count": 58,
     "metadata": {},
     "output_type": "execute_result"
    }
   ],
   "source": [
    "deck_of_cards.deal_card() #Dealing Cards"
   ]
  },
  {
   "cell_type": "code",
   "execution_count": 60,
   "id": "43584116-5477-41ba-976a-4cfe58a88230",
   "metadata": {},
   "outputs": [],
   "source": [
    "card = deck_of_cards.deal_card() #Deal another card & pass it to the built-in str function."
   ]
  },
  {
   "cell_type": "code",
   "execution_count": 61,
   "id": "6287ea8a-b4f7-4b49-b224-782424d46c57",
   "metadata": {},
   "outputs": [
    {
     "data": {
      "text/plain": [
       "'7 of Spades'"
      ]
     },
     "execution_count": 61,
     "metadata": {},
     "output_type": "execute_result"
    }
   ],
   "source": [
    "str(card)"
   ]
  },
  {
   "cell_type": "code",
   "execution_count": 62,
   "id": "ebc9857c-eee4-4590-9d27-bb2cb8255185",
   "metadata": {},
   "outputs": [
    {
     "data": {
      "text/plain": [
       "'7_of_Spades.png'"
      ]
     },
     "execution_count": 62,
     "metadata": {},
     "output_type": "execute_result"
    }
   ],
   "source": [
    "card.image_name"
   ]
  },
  {
   "cell_type": "markdown",
   "id": "2dfc05cf-51fe-4483-99f3-7eed87ba1329",
   "metadata": {},
   "source": [
    "Displaying Card Images with Matplotlib"
   ]
  },
  {
   "cell_type": "code",
   "execution_count": 63,
   "id": "a16d16b0-39c0-4c11-acb9-54661750d979",
   "metadata": {},
   "outputs": [],
   "source": [
    "from deck import DeckOfCards"
   ]
  },
  {
   "cell_type": "code",
   "execution_count": 64,
   "id": "49dfabb5-32cc-4e71-a5d9-19313df4328d",
   "metadata": {},
   "outputs": [],
   "source": [
    "deck_of_cards = DeckOfCards()"
   ]
  },
  {
   "cell_type": "code",
   "execution_count": 108,
   "id": "058a451e-0f87-4a02-841e-e1f0e3dff294",
   "metadata": {},
   "outputs": [
    {
     "name": "stdout",
     "output_type": "stream",
     "text": [
      "Using matplotlib backend: TkAgg\n"
     ]
    }
   ],
   "source": [
    "%matplotlib"
   ]
  },
  {
   "cell_type": "code",
   "execution_count": 116,
   "id": "2fa14ce8-b776-49f6-ab9a-e980c5fbb25e",
   "metadata": {},
   "outputs": [],
   "source": [
    "from pathlib import Path"
   ]
  },
  {
   "cell_type": "code",
   "execution_count": 117,
   "id": "a6d46813-5400-40a4-9b96-1eed6b6cbc98",
   "metadata": {},
   "outputs": [],
   "source": [
    "path = Path('.').joinpath('card_images')"
   ]
  },
  {
   "cell_type": "code",
   "execution_count": 118,
   "id": "e1243349-94c9-46c0-9196-e213493d9152",
   "metadata": {},
   "outputs": [],
   "source": [
    "import matplotlib.pyplot as plt"
   ]
  },
  {
   "cell_type": "code",
   "execution_count": 120,
   "id": "a311e1c9-dbe4-4657-8690-192a57ded26c",
   "metadata": {},
   "outputs": [],
   "source": [
    "import matplotlib.image as mpimg"
   ]
  },
  {
   "cell_type": "code",
   "execution_count": 119,
   "id": "1f55c02c-8b80-46ed-a66c-007e10bcecf1",
   "metadata": {},
   "outputs": [],
   "source": [
    "figure, axes_list = plt.subplots(nrows=4, ncols=13)"
   ]
  },
  {
   "cell_type": "code",
   "execution_count": 121,
   "id": "cd3eb58d-2243-47b9-94de-431360d13132",
   "metadata": {},
   "outputs": [
    {
     "ename": "AttributeError",
     "evalue": "'NoneType' object has no attribute 'image_name'",
     "output_type": "error",
     "traceback": [
      "\u001b[1;31m---------------------------------------------------------------------------\u001b[0m",
      "\u001b[1;31mAttributeError\u001b[0m                            Traceback (most recent call last)",
      "Cell \u001b[1;32mIn[121], line 4\u001b[0m\n\u001b[0;32m      2\u001b[0m axes\u001b[38;5;241m.\u001b[39mget_xaxis()\u001b[38;5;241m.\u001b[39mset_visible(\u001b[38;5;28;01mFalse\u001b[39;00m)\n\u001b[0;32m      3\u001b[0m axes\u001b[38;5;241m.\u001b[39mget_yaxis()\u001b[38;5;241m.\u001b[39mset_visible(\u001b[38;5;28;01mFalse\u001b[39;00m)\n\u001b[1;32m----> 4\u001b[0m image_name \u001b[38;5;241m=\u001b[39m \u001b[43mdeck_of_cards\u001b[49m\u001b[38;5;241;43m.\u001b[39;49m\u001b[43mdeal_card\u001b[49m\u001b[43m(\u001b[49m\u001b[43m)\u001b[49m\u001b[38;5;241;43m.\u001b[39;49m\u001b[43mimage_name\u001b[49m\n\u001b[0;32m      5\u001b[0m img \u001b[38;5;241m=\u001b[39m mpimg\u001b[38;5;241m.\u001b[39mimread(\u001b[38;5;28mstr\u001b[39m(path\u001b[38;5;241m.\u001b[39mjoinpath(image_name)\u001b[38;5;241m.\u001b[39mresolve()))\n\u001b[0;32m      6\u001b[0m axes\u001b[38;5;241m.\u001b[39mimshow(img)\n",
      "\u001b[1;31mAttributeError\u001b[0m: 'NoneType' object has no attribute 'image_name'"
     ]
    }
   ],
   "source": [
    "#Could not get this to work!\n",
    "for axes in axes_list.ravel():\n",
    "    axes.get_xaxis().set_visible(False)\n",
    "    axes.get_yaxis().set_visible(False)\n",
    "    image_name = deck_of_cards.deal_card().image_name\n",
    "    img = mpimg.imread(str(path.joinpath(image_name).resolve()))\n",
    "    axes.imshow(img)"
   ]
  },
  {
   "cell_type": "code",
   "execution_count": 122,
   "id": "2eb06f98-701b-41f4-bfc0-708435ee8393",
   "metadata": {},
   "outputs": [
    {
     "name": "stderr",
     "output_type": "stream",
     "text": [
      "C:\\Users\\15152\\AppData\\Local\\Temp\\ipykernel_12152\\1210551376.py:1: UserWarning: Tight layout not applied. tight_layout cannot make axes width small enough to accommodate all axes decorations\n",
      "  figure.tight_layout()\n"
     ]
    }
   ],
   "source": [
    "figure.tight_layout()"
   ]
  },
  {
   "cell_type": "markdown",
   "id": "836aaa18-b0f2-4c02-bd80-46e403dd20ab",
   "metadata": {},
   "source": [
    "**10.7 - Inheritance: Base Classes and Subclasses; Read and understand examples: Complete**"
   ]
  },
  {
   "cell_type": "markdown",
   "id": "11a4f6eb-4338-4db6-8eb5-7d2d000a1cdd",
   "metadata": {},
   "source": [
    "**10.8 - Building an Inheritance Hierarchy; Introducing Polymorphism**"
   ]
  },
  {
   "cell_type": "markdown",
   "id": "c8f2b5a4-35f8-4137-9ba9-2aaa75cc043f",
   "metadata": {},
   "source": [
    "Testing Class CommissionEmployee"
   ]
  },
  {
   "cell_type": "code",
   "execution_count": 123,
   "id": "5f951ef8-73b5-4413-82ad-0d3ce7f50e50",
   "metadata": {},
   "outputs": [],
   "source": [
    "from commissionemployee import CommissionEmployee"
   ]
  },
  {
   "cell_type": "code",
   "execution_count": 124,
   "id": "ef104fba-54d0-4cc9-9d02-7e8cbaf974a3",
   "metadata": {},
   "outputs": [],
   "source": [
    "from decimal import Decimal"
   ]
  },
  {
   "cell_type": "code",
   "execution_count": 127,
   "id": "3db2d456-781c-4cb1-a499-bc64422d1ac9",
   "metadata": {},
   "outputs": [],
   "source": [
    "c = CommissionEmployee('Sue', 'Jones', '333-33-3333',\n",
    "                       Decimal('10000.00'), Decimal('0.06')) #Create a display a CommissionEmployee:"
   ]
  },
  {
   "cell_type": "code",
   "execution_count": 128,
   "id": "b9aef3d5-7eae-4bf0-96c7-c9f9076f9b04",
   "metadata": {},
   "outputs": [
    {
     "data": {
      "text/plain": [
       "CommissionEmployee: Sue Jones\n",
       "social security number: 333-33-3333\n",
       "gross sales: 10000.00\n",
       "commission rate: 0.06"
      ]
     },
     "execution_count": 128,
     "metadata": {},
     "output_type": "execute_result"
    }
   ],
   "source": [
    "c"
   ]
  },
  {
   "cell_type": "code",
   "execution_count": 129,
   "id": "aa5df1d2-77b3-4efd-855b-872ff1aa4a6e",
   "metadata": {},
   "outputs": [
    {
     "name": "stdout",
     "output_type": "stream",
     "text": [
      "600.00\n"
     ]
    }
   ],
   "source": [
    "print(f'{c.earnings():,.2f}') #Calculate and display the CommissionEmployee's earnings."
   ]
  },
  {
   "cell_type": "code",
   "execution_count": 130,
   "id": "756557d2-d0e4-4b9a-a464-34d1a50af69e",
   "metadata": {},
   "outputs": [],
   "source": [
    "c.gross_sales = Decimal('20000.00') #Changing the CommissionEmployee's gross sales."
   ]
  },
  {
   "cell_type": "code",
   "execution_count": 131,
   "id": "5acfc7c6-c47d-4a32-9f8a-c2ff14142f7d",
   "metadata": {},
   "outputs": [],
   "source": [
    "c.commission_rate = Decimal('0.1') #Changing the CommissionEmployee's commission rate."
   ]
  },
  {
   "cell_type": "code",
   "execution_count": 132,
   "id": "eacb8f4c-4fb5-4d29-a784-1314a0bda718",
   "metadata": {},
   "outputs": [
    {
     "name": "stdout",
     "output_type": "stream",
     "text": [
      "2,000.00\n"
     ]
    }
   ],
   "source": [
    "print(f'{c.earnings():,.2f}') #Recalculating the earnings"
   ]
  },
  {
   "cell_type": "markdown",
   "id": "6661234b-5cd8-4a05-9b11-2de011c3ea7c",
   "metadata": {},
   "source": [
    "Testing Class SalariedCommissionEmployee"
   ]
  },
  {
   "cell_type": "code",
   "execution_count": 133,
   "id": "59a99d1e-c574-4743-b9a7-b9cf4a7ec71a",
   "metadata": {},
   "outputs": [],
   "source": [
    "from salariedcommissionemployee import SalariedCommissionEmployee"
   ]
  },
  {
   "cell_type": "code",
   "execution_count": 135,
   "id": "9e391bce-0a63-425d-b6f3-a82a92595a3a",
   "metadata": {},
   "outputs": [],
   "source": [
    "s = SalariedCommissionEmployee('Bob', 'Lewis', '444-44-4444',\n",
    "                               Decimal('5000.00'), Decimal('0.04'), Decimal('300.00'))"
   ]
  },
  {
   "cell_type": "code",
   "execution_count": 136,
   "id": "13988add-8117-4367-8cf3-a749ebb3ae83",
   "metadata": {},
   "outputs": [
    {
     "name": "stdout",
     "output_type": "stream",
     "text": [
      "Bob Lewis 444-44-4444 5000.00 0.04 300.00\n"
     ]
    }
   ],
   "source": [
    "print(s.first_name, s.last_name, s.ssn, s.gross_sales,\n",
    "      s.commission_rate, s.base_salary)"
   ]
  },
  {
   "cell_type": "code",
   "execution_count": 137,
   "id": "ed58afb0-4638-4952-9066-48c0206c316b",
   "metadata": {},
   "outputs": [
    {
     "name": "stdout",
     "output_type": "stream",
     "text": [
      "500.00\n"
     ]
    }
   ],
   "source": [
    "print(f'{s.earnings():,.2f}') #Calculate & display the SalariedCommissionEmployee's earnings."
   ]
  },
  {
   "cell_type": "code",
   "execution_count": 138,
   "id": "c9173256-00ef-4222-8388-1db912a9df6b",
   "metadata": {},
   "outputs": [],
   "source": [
    "s.gross_sales = Decimal('10000.00') #Modifying the gross sales"
   ]
  },
  {
   "cell_type": "code",
   "execution_count": 139,
   "id": "3b8cbc48-99ac-477f-9109-1fec8faa87f3",
   "metadata": {},
   "outputs": [],
   "source": [
    "s.commission_rate = Decimal('0.05') #Modifying the commission rate"
   ]
  },
  {
   "cell_type": "code",
   "execution_count": 140,
   "id": "77e84b6f-0418-42fc-92f8-fdbbe7091ecb",
   "metadata": {},
   "outputs": [],
   "source": [
    "s.base_salary = Decimal('1000.00') #Modifying the base salary"
   ]
  },
  {
   "cell_type": "code",
   "execution_count": 141,
   "id": "4056a201-f71e-4066-9f07-90ec560b92ee",
   "metadata": {},
   "outputs": [
    {
     "name": "stdout",
     "output_type": "stream",
     "text": [
      "SalariedCommissionEmployee: Bob Lewis\n",
      "social security number: 444-44-4444\n",
      "gross sales: 10000.00\n",
      "commission rate: 0.05\n",
      "base salary: 1000.00\n"
     ]
    }
   ],
   "source": [
    "print(s) #Displaying the updated data via the SalariedCommissionEmployee's__rep__method:"
   ]
  },
  {
   "cell_type": "code",
   "execution_count": 142,
   "id": "89e9126e-52ae-47e1-b1b3-203d380ff7f6",
   "metadata": {},
   "outputs": [
    {
     "name": "stdout",
     "output_type": "stream",
     "text": [
      "1,500.00\n"
     ]
    }
   ],
   "source": [
    "print(f'{s.earnings():,.2f}') #Calculate & display the SalariedCommissionEmployee's updated earnings:"
   ]
  },
  {
   "cell_type": "markdown",
   "id": "2d2c3769-fd8e-493c-bb9c-56df957db850",
   "metadata": {},
   "source": [
    "Testing the \"is a\" Relationship"
   ]
  },
  {
   "cell_type": "code",
   "execution_count": 143,
   "id": "11eebbd2-f673-4d84-b775-48d52b7b3b98",
   "metadata": {},
   "outputs": [
    {
     "data": {
      "text/plain": [
       "True"
      ]
     },
     "execution_count": 143,
     "metadata": {},
     "output_type": "execute_result"
    }
   ],
   "source": [
    "issubclass(SalariedCommissionEmployee, CommissionEmployee)"
   ]
  },
  {
   "cell_type": "code",
   "execution_count": 144,
   "id": "0bbd9562-aec0-4a1d-8e26-633d2464b39c",
   "metadata": {},
   "outputs": [
    {
     "data": {
      "text/plain": [
       "True"
      ]
     },
     "execution_count": 144,
     "metadata": {},
     "output_type": "execute_result"
    }
   ],
   "source": [
    "isinstance(s, CommissionEmployee)"
   ]
  },
  {
   "cell_type": "code",
   "execution_count": 145,
   "id": "3fb2e6d1-ef0d-486d-95bc-95d99e110667",
   "metadata": {},
   "outputs": [
    {
     "data": {
      "text/plain": [
       "True"
      ]
     },
     "execution_count": 145,
     "metadata": {},
     "output_type": "execute_result"
    }
   ],
   "source": [
    "isinstance(s, SalariedCommissionEmployee)"
   ]
  },
  {
   "cell_type": "markdown",
   "id": "c4c89650-d45c-4e24-ac9e-41dc44ad9f5a",
   "metadata": {},
   "source": [
    "Processing CommissionEmployees and SalariedCommissionEmployees Polymorphically"
   ]
  },
  {
   "cell_type": "code",
   "execution_count": 146,
   "id": "529d6ac4-dc86-47f2-810e-b5b0ebea8f9a",
   "metadata": {},
   "outputs": [],
   "source": [
    "employees = [c, s]"
   ]
  },
  {
   "cell_type": "code",
   "execution_count": 147,
   "id": "2151f5d4-deb9-4660-baf5-8aa6e62c370d",
   "metadata": {},
   "outputs": [
    {
     "name": "stdout",
     "output_type": "stream",
     "text": [
      "CommissionEmployee: Sue Jones\n",
      "social security number: 333-33-3333\n",
      "gross sales: 20000.00\n",
      "commission rate: 0.10\n",
      "2,000.00\n",
      "\n",
      "SalariedCommissionEmployee: Bob Lewis\n",
      "social security number: 444-44-4444\n",
      "gross sales: 10000.00\n",
      "commission rate: 0.05\n",
      "base salary: 1000.00\n",
      "1,500.00\n",
      "\n"
     ]
    }
   ],
   "source": [
    "for employee in employees:\n",
    "    print(employee)\n",
    "    print(f'{employee.earnings():,.2f}\\n')"
   ]
  },
  {
   "cell_type": "markdown",
   "id": "89311d27-1976-4443-803c-2d6a5fae6c6a",
   "metadata": {},
   "source": [
    "**10.9 - Duck Typing and Polymorphism**"
   ]
  },
  {
   "cell_type": "code",
   "execution_count": 149,
   "id": "c4859614-5333-4f13-b018-a429cb391f57",
   "metadata": {},
   "outputs": [],
   "source": [
    "class WellPaidDuck:\n",
    "    def __repr__(self):\n",
    "        return 'I am a well-paid duck'\n",
    "    def earnings(self):\n",
    "        return Decimal('1_000_000.00')"
   ]
  },
  {
   "cell_type": "markdown",
   "id": "ea95d154-baae-4da2-aa98-d7a5348cdc15",
   "metadata": {},
   "source": [
    "Create objects of our classes CommissionEmployee, SalariedCommissionEmployee and WellPaidDuck and place\n",
    "them in a list."
   ]
  },
  {
   "cell_type": "code",
   "execution_count": 150,
   "id": "f6aed248-52eb-4dcf-a53c-5ed9e68af483",
   "metadata": {},
   "outputs": [],
   "source": [
    "from decimal import Decimal"
   ]
  },
  {
   "cell_type": "code",
   "execution_count": 151,
   "id": "90b93bff-2921-4084-bd93-d220ea73988e",
   "metadata": {},
   "outputs": [],
   "source": [
    "from commissionemployee import CommissionEmployee"
   ]
  },
  {
   "cell_type": "raw",
   "id": "d315db99-901b-48e9-87c9-473b11b3f4d2",
   "metadata": {},
   "source": [
    "from salariedcommissionemployee import SalariedCommissionEmployee"
   ]
  },
  {
   "cell_type": "code",
   "execution_count": 154,
   "id": "9e86a89c-fe50-40a6-8451-ffcc86edb11a",
   "metadata": {},
   "outputs": [],
   "source": [
    "c = CommissionEmployee('Sue', 'Jones', '333-33-3333',\n",
    "                       Decimal('10000.00'), Decimal('0.06'))"
   ]
  },
  {
   "cell_type": "code",
   "execution_count": 156,
   "id": "d12d3ab4-83dc-4dd7-b3de-5aa0eadc5e8b",
   "metadata": {},
   "outputs": [],
   "source": [
    "s = SalariedCommissionEmployee('Bob', 'Lewis', '444-44-4444',\n",
    "                               Decimal('5000.00'), Decimal('0.04'), Decimal('300.00'))"
   ]
  },
  {
   "cell_type": "code",
   "execution_count": 157,
   "id": "2d40b7a1-0255-4be9-9ada-efd51bdd472d",
   "metadata": {},
   "outputs": [],
   "source": [
    "d = WellPaidDuck()"
   ]
  },
  {
   "cell_type": "code",
   "execution_count": 158,
   "id": "29186565-e42b-4326-922f-75f924a879bc",
   "metadata": {},
   "outputs": [],
   "source": [
    "employees = [c, s, d]"
   ]
  },
  {
   "cell_type": "markdown",
   "id": "cfe4d6c4-98e9-4085-a31e-1a5e7064c214",
   "metadata": {},
   "source": [
    "Proccessing the list using the loop: Python uses duck typing to polymorphically process all three objects in the list."
   ]
  },
  {
   "cell_type": "code",
   "execution_count": 159,
   "id": "728ced1c-1fc0-4ba4-b4cd-ae3cd2ec671e",
   "metadata": {},
   "outputs": [
    {
     "name": "stdout",
     "output_type": "stream",
     "text": [
      "CommissionEmployee: Sue Jones\n",
      "social security number: 333-33-3333\n",
      "gross sales: 10000.00\n",
      "commission rate: 0.06\n",
      "600.00\n",
      "\n",
      "SalariedCommissionEmployee: Bob Lewis\n",
      "social security number: 444-44-4444\n",
      "gross sales: 5000.00\n",
      "commission rate: 0.04\n",
      "base salary: 300.00\n",
      "500.00\n",
      "\n",
      "I am a well-paid duck\n",
      "1,000,000.00\n",
      "\n"
     ]
    }
   ],
   "source": [
    "for employee in employees:\n",
    "    print(employee)\n",
    "    print(f'{employee.earnings():,.2f}\\n')"
   ]
  },
  {
   "cell_type": "markdown",
   "id": "87e2bc5b-9f30-44b7-b53a-de4a18dde639",
   "metadata": {},
   "source": [
    "**10.10 - Operator Overloading**"
   ]
  },
  {
   "cell_type": "markdown",
   "id": "8b42821e-4f04-4946-b745-3be336d48e16",
   "metadata": {},
   "source": [
    "Test-Driving Class Complex"
   ]
  },
  {
   "cell_type": "code",
   "execution_count": 160,
   "id": "ea6add04-5226-4a3c-8a69-c9138951709e",
   "metadata": {},
   "outputs": [],
   "source": [
    "from complexnumber import Complex"
   ]
  },
  {
   "cell_type": "code",
   "execution_count": 161,
   "id": "52dd12e5-bd3e-4a8d-ad75-7bf50082e163",
   "metadata": {},
   "outputs": [],
   "source": [
    "x = Complex(real=2, imaginary=4)"
   ]
  },
  {
   "cell_type": "code",
   "execution_count": 162,
   "id": "b16833ea-08b2-4aef-817e-6173c3641a39",
   "metadata": {},
   "outputs": [
    {
     "data": {
      "text/plain": [
       "(2 + 4i)"
      ]
     },
     "execution_count": 162,
     "metadata": {},
     "output_type": "execute_result"
    }
   ],
   "source": [
    "x"
   ]
  },
  {
   "cell_type": "code",
   "execution_count": 163,
   "id": "08e0198a-1ab5-4cc4-98c9-b781d124539e",
   "metadata": {},
   "outputs": [],
   "source": [
    "y = Complex(real=5, imaginary=-1)"
   ]
  },
  {
   "cell_type": "code",
   "execution_count": 164,
   "id": "330d109f-3e86-41de-8c38-53c9cbce6ce5",
   "metadata": {},
   "outputs": [
    {
     "data": {
      "text/plain": [
       "(5 - 1i)"
      ]
     },
     "execution_count": 164,
     "metadata": {},
     "output_type": "execute_result"
    }
   ],
   "source": [
    "y"
   ]
  },
  {
   "cell_type": "code",
   "execution_count": 165,
   "id": "77138b69-f51e-4e9c-aa05-088e429c1f5e",
   "metadata": {},
   "outputs": [
    {
     "data": {
      "text/plain": [
       "(7 + 3i)"
      ]
     },
     "execution_count": 165,
     "metadata": {},
     "output_type": "execute_result"
    }
   ],
   "source": [
    "x+y"
   ]
  },
  {
   "cell_type": "code",
   "execution_count": 166,
   "id": "51dcee7d-d7bc-4184-b826-a22db6968067",
   "metadata": {},
   "outputs": [
    {
     "data": {
      "text/plain": [
       "(2 + 4i)"
      ]
     },
     "execution_count": 166,
     "metadata": {},
     "output_type": "execute_result"
    }
   ],
   "source": [
    "x"
   ]
  },
  {
   "cell_type": "code",
   "execution_count": 167,
   "id": "190cb7b7-0ec1-4941-8697-96ef47541420",
   "metadata": {},
   "outputs": [
    {
     "data": {
      "text/plain": [
       "(5 - 1i)"
      ]
     },
     "execution_count": 167,
     "metadata": {},
     "output_type": "execute_result"
    }
   ],
   "source": [
    "y"
   ]
  },
  {
   "cell_type": "code",
   "execution_count": 168,
   "id": "c467e193-4eaa-41b8-9fa1-803df3f51ab4",
   "metadata": {},
   "outputs": [],
   "source": [
    "x+=y"
   ]
  },
  {
   "cell_type": "code",
   "execution_count": 169,
   "id": "479e6cc7-7bcf-451b-b8d5-2b59003d4e55",
   "metadata": {},
   "outputs": [
    {
     "data": {
      "text/plain": [
       "(7 + 3i)"
      ]
     },
     "execution_count": 169,
     "metadata": {},
     "output_type": "execute_result"
    }
   ],
   "source": [
    "x"
   ]
  },
  {
   "cell_type": "code",
   "execution_count": 170,
   "id": "39f57ad5-39ee-4b6b-89d1-f47b9a2c4bdf",
   "metadata": {},
   "outputs": [
    {
     "data": {
      "text/plain": [
       "(5 - 1i)"
      ]
     },
     "execution_count": 170,
     "metadata": {},
     "output_type": "execute_result"
    }
   ],
   "source": [
    "y"
   ]
  },
  {
   "cell_type": "markdown",
   "id": "ec7bbc6e-36f7-4114-a591-e719ce4a4191",
   "metadata": {},
   "source": [
    "**10.11 - Exception Class Hierarchy and Custom Exceptions; Read and Understand: Complete**"
   ]
  },
  {
   "cell_type": "markdown",
   "id": "b1eee903-5226-44e8-8436-a3a183bf34b3",
   "metadata": {},
   "source": [
    "**10.12 - Named Tuples**"
   ]
  },
  {
   "cell_type": "code",
   "execution_count": 173,
   "id": "a2887087-797b-450d-a968-717f86c6d09d",
   "metadata": {},
   "outputs": [],
   "source": [
    "from collections import namedtuple"
   ]
  },
  {
   "cell_type": "code",
   "execution_count": 174,
   "id": "2a1f621d-17f0-489e-accb-3bfdd736e746",
   "metadata": {},
   "outputs": [],
   "source": [
    "Card = namedtuple('Card', ['face', 'suit'])"
   ]
  },
  {
   "cell_type": "code",
   "execution_count": 175,
   "id": "36e7b98a-a050-4ec9-89e3-6f31dcd834ff",
   "metadata": {},
   "outputs": [],
   "source": [
    "card = Card(face='Ace', suit='Spades')"
   ]
  },
  {
   "cell_type": "code",
   "execution_count": 176,
   "id": "e6a93129-04de-4cf6-8aa6-b485c3854086",
   "metadata": {},
   "outputs": [
    {
     "data": {
      "text/plain": [
       "'Ace'"
      ]
     },
     "execution_count": 176,
     "metadata": {},
     "output_type": "execute_result"
    }
   ],
   "source": [
    "card.face"
   ]
  },
  {
   "cell_type": "code",
   "execution_count": 177,
   "id": "756ee39c-dcd8-4ddc-b991-2e3e045e3717",
   "metadata": {},
   "outputs": [
    {
     "data": {
      "text/plain": [
       "'Spades'"
      ]
     },
     "execution_count": 177,
     "metadata": {},
     "output_type": "execute_result"
    }
   ],
   "source": [
    "card.suit"
   ]
  },
  {
   "cell_type": "code",
   "execution_count": 178,
   "id": "0ddef5ef-0e52-4f93-90fb-e6ac4b5b229b",
   "metadata": {},
   "outputs": [
    {
     "data": {
      "text/plain": [
       "Card(face='Ace', suit='Spades')"
      ]
     },
     "execution_count": 178,
     "metadata": {},
     "output_type": "execute_result"
    }
   ],
   "source": [
    "card"
   ]
  },
  {
   "cell_type": "markdown",
   "id": "059ee454-bf8a-4f4d-87bd-e49c0b6d0b64",
   "metadata": {},
   "source": [
    "Other Named Tuple Features"
   ]
  },
  {
   "cell_type": "code",
   "execution_count": 179,
   "id": "d0a24259-7b04-41b7-a74b-aa9ba97c450b",
   "metadata": {},
   "outputs": [],
   "source": [
    "values = ['Queen', 'Hearts']"
   ]
  },
  {
   "cell_type": "code",
   "execution_count": 180,
   "id": "08723a3f-e2e7-4efd-b1a5-423417770b35",
   "metadata": {},
   "outputs": [],
   "source": [
    "card = Card._make(values)"
   ]
  },
  {
   "cell_type": "code",
   "execution_count": 181,
   "id": "78fe6ec6-cafc-429a-86e0-d74a85d4f77d",
   "metadata": {},
   "outputs": [
    {
     "data": {
      "text/plain": [
       "Card(face='Queen', suit='Hearts')"
      ]
     },
     "execution_count": 181,
     "metadata": {},
     "output_type": "execute_result"
    }
   ],
   "source": [
    "card"
   ]
  },
  {
   "cell_type": "code",
   "execution_count": 182,
   "id": "81b28d7a-2913-40df-a584-3da3a8dae8a6",
   "metadata": {},
   "outputs": [
    {
     "data": {
      "text/plain": [
       "{'face': 'Queen', 'suit': 'Hearts'}"
      ]
     },
     "execution_count": 182,
     "metadata": {},
     "output_type": "execute_result"
    }
   ],
   "source": [
    "card._asdict()"
   ]
  },
  {
   "cell_type": "markdown",
   "id": "6a14c4b3-ca5b-4439-a1e0-1d109765d052",
   "metadata": {},
   "source": [
    "**10.13 - A Brief Intro to Python 3.7's New Data Classes**"
   ]
  },
  {
   "cell_type": "markdown",
   "id": "d153bc2d-cbde-47e8-88e0-7a3a59f44bd1",
   "metadata": {},
   "source": [
    "Variable Annotations: Data Attributes"
   ]
  },
  {
   "cell_type": "code",
   "execution_count": 183,
   "id": "0f1b97be-5a9b-4a4d-ad81-d216b7fd2c0e",
   "metadata": {},
   "outputs": [],
   "source": [
    "from dataclasses import dataclass"
   ]
  },
  {
   "cell_type": "code",
   "execution_count": 190,
   "id": "adc3f03a-9b13-4914-b81c-b84adb64bf67",
   "metadata": {},
   "outputs": [],
   "source": [
    "@dataclass\n",
    "class Demo: \n",
    "    x #attempting to create a data attribute x"
   ]
  },
  {
   "cell_type": "code",
   "execution_count": 191,
   "id": "7c3dbe71-2f14-4c7c-8dce-6b61f7fb2e7b",
   "metadata": {},
   "outputs": [],
   "source": [
    "from carddataclass import Card"
   ]
  },
  {
   "cell_type": "code",
   "execution_count": 192,
   "id": "c1e6aca2-d3ac-4739-9a77-08bd7640f5cc",
   "metadata": {},
   "outputs": [],
   "source": [
    "c1 = Card(Card.FACES[0], Card.SUITS[3])"
   ]
  },
  {
   "cell_type": "code",
   "execution_count": 193,
   "id": "f2a1f5c0-7c4a-48cb-9761-0b436f70b142",
   "metadata": {},
   "outputs": [
    {
     "data": {
      "text/plain": [
       "Card(face='Ace', suit='Spades')"
      ]
     },
     "execution_count": 193,
     "metadata": {},
     "output_type": "execute_result"
    }
   ],
   "source": [
    "c1"
   ]
  },
  {
   "cell_type": "code",
   "execution_count": 194,
   "id": "70045a83-4c95-4d63-924e-f298aa9ada6f",
   "metadata": {},
   "outputs": [
    {
     "name": "stdout",
     "output_type": "stream",
     "text": [
      "Ace of Spades\n"
     ]
    }
   ],
   "source": [
    "print(c1)"
   ]
  },
  {
   "cell_type": "code",
   "execution_count": 195,
   "id": "2f640c63-5ca5-4f12-81cc-cebeeba9f3f6",
   "metadata": {},
   "outputs": [
    {
     "data": {
      "text/plain": [
       "'Ace'"
      ]
     },
     "execution_count": 195,
     "metadata": {},
     "output_type": "execute_result"
    }
   ],
   "source": [
    "c1.face"
   ]
  },
  {
   "cell_type": "code",
   "execution_count": 196,
   "id": "56f320e1-332f-40ed-8553-378eab99ac5d",
   "metadata": {},
   "outputs": [
    {
     "data": {
      "text/plain": [
       "'Spades'"
      ]
     },
     "execution_count": 196,
     "metadata": {},
     "output_type": "execute_result"
    }
   ],
   "source": [
    "c1.suit"
   ]
  },
  {
   "cell_type": "code",
   "execution_count": 197,
   "id": "3c9b2027-b974-4690-b5f9-be1cfff159cc",
   "metadata": {},
   "outputs": [
    {
     "data": {
      "text/plain": [
       "'Ace_of_Spades.png'"
      ]
     },
     "execution_count": 197,
     "metadata": {},
     "output_type": "execute_result"
    }
   ],
   "source": [
    "c1.image_name"
   ]
  },
  {
   "cell_type": "code",
   "execution_count": 198,
   "id": "d63585b4-8aea-4a7f-ba62-69995935f695",
   "metadata": {},
   "outputs": [],
   "source": [
    "c2 = Card(Card.FACES[0], Card.SUITS[3])"
   ]
  },
  {
   "cell_type": "code",
   "execution_count": 199,
   "id": "b562bb38-608d-4503-9d94-0cd4f7b846eb",
   "metadata": {},
   "outputs": [
    {
     "data": {
      "text/plain": [
       "Card(face='Ace', suit='Spades')"
      ]
     },
     "execution_count": 199,
     "metadata": {},
     "output_type": "execute_result"
    }
   ],
   "source": [
    "c2"
   ]
  },
  {
   "cell_type": "code",
   "execution_count": 200,
   "id": "d3fc9708-6ff1-4c7a-bbb8-db5882e6fa23",
   "metadata": {},
   "outputs": [],
   "source": [
    "c3 = Card(Card.FACES[0], Card.SUITS[0])"
   ]
  },
  {
   "cell_type": "code",
   "execution_count": 201,
   "id": "ba735915-ce07-429e-ae66-60b11ce14d91",
   "metadata": {},
   "outputs": [
    {
     "data": {
      "text/plain": [
       "Card(face='Ace', suit='Hearts')"
      ]
     },
     "execution_count": 201,
     "metadata": {},
     "output_type": "execute_result"
    }
   ],
   "source": [
    "c3"
   ]
  },
  {
   "cell_type": "code",
   "execution_count": 202,
   "id": "1c420990-c2cf-4eff-8928-440a50b67612",
   "metadata": {},
   "outputs": [
    {
     "data": {
      "text/plain": [
       "True"
      ]
     },
     "execution_count": 202,
     "metadata": {},
     "output_type": "execute_result"
    }
   ],
   "source": [
    "c1 == c2"
   ]
  },
  {
   "cell_type": "code",
   "execution_count": 203,
   "id": "124fff64-3184-4752-bf13-f6e12d1806dc",
   "metadata": {},
   "outputs": [
    {
     "data": {
      "text/plain": [
       "False"
      ]
     },
     "execution_count": 203,
     "metadata": {},
     "output_type": "execute_result"
    }
   ],
   "source": [
    "c1 == c3"
   ]
  },
  {
   "cell_type": "code",
   "execution_count": 204,
   "id": "38b280de-7857-41f9-9220-98b24172e248",
   "metadata": {},
   "outputs": [
    {
     "data": {
      "text/plain": [
       "True"
      ]
     },
     "execution_count": 204,
     "metadata": {},
     "output_type": "execute_result"
    }
   ],
   "source": [
    "c1 != c3"
   ]
  },
  {
   "cell_type": "code",
   "execution_count": 205,
   "id": "bbf6ba88-2a99-41e2-9166-8dff98ac7e33",
   "metadata": {},
   "outputs": [],
   "source": [
    "from deck2 import DeckOfCards #uses Card data class"
   ]
  },
  {
   "cell_type": "code",
   "execution_count": 206,
   "id": "3c6b9f0d-b79b-4a40-9e03-5fd2514f3d9d",
   "metadata": {},
   "outputs": [],
   "source": [
    "deck_of_cards = DeckOfCards()"
   ]
  },
  {
   "cell_type": "code",
   "execution_count": 207,
   "id": "222a21cf-544f-498e-811a-d687cb6b89a0",
   "metadata": {},
   "outputs": [
    {
     "name": "stdout",
     "output_type": "stream",
     "text": [
      "Ace of Hearts      2 of Hearts        3 of Hearts        4 of Hearts        \n",
      "5 of Hearts        6 of Hearts        7 of Hearts        8 of Hearts        \n",
      "9 of Hearts        10 of Hearts       Jack of Hearts     Queen of Hearts    \n",
      "King of Hearts     Ace of Diamonds    2 of Diamonds      3 of Diamonds      \n",
      "4 of Diamonds      5 of Diamonds      6 of Diamonds      7 of Diamonds      \n",
      "8 of Diamonds      9 of Diamonds      10 of Diamonds     Jack of Diamonds   \n",
      "Queen of Diamonds  King of Diamonds   Ace of Clubs       2 of Clubs         \n",
      "3 of Clubs         4 of Clubs         5 of Clubs         6 of Clubs         \n",
      "7 of Clubs         8 of Clubs         9 of Clubs         10 of Clubs        \n",
      "Jack of Clubs      Queen of Clubs     King of Clubs      Ace of Spades      \n",
      "2 of Spades        3 of Spades        4 of Spades        5 of Spades        \n",
      "6 of Spades        7 of Spades        8 of Spades        9 of Spades        \n",
      "10 of Spades       Jack of Spades     Queen of Spades    King of Spades     \n",
      "\n"
     ]
    }
   ],
   "source": [
    "print(deck_of_cards)"
   ]
  },
  {
   "cell_type": "markdown",
   "id": "e54ea4eb-90f5-4c46-8868-c08fec9db9b7",
   "metadata": {},
   "source": [
    "**10.14 - Unit Testing wit Docstrings and doctest; Read and understand examples-Complete**"
   ]
  },
  {
   "cell_type": "markdown",
   "id": "58a2e73e-d381-442d-8a6d-ae90e46099a5",
   "metadata": {},
   "source": [
    "**10.15 - Namespaces and Scopes**"
   ]
  },
  {
   "cell_type": "code",
   "execution_count": 208,
   "id": "ab5fea20-9cdd-4339-8889-d89564224ee5",
   "metadata": {},
   "outputs": [],
   "source": [
    "z = 'global z'"
   ]
  },
  {
   "cell_type": "code",
   "execution_count": 209,
   "id": "775b803f-e6cf-4e5b-9129-66ed85f7161a",
   "metadata": {},
   "outputs": [],
   "source": [
    "def print_variables():\n",
    "    y = 'local y in print_variables'\n",
    "    print(y)\n",
    "    print(z)\n",
    "    "
   ]
  },
  {
   "cell_type": "code",
   "execution_count": 210,
   "id": "129fe35b-c467-42ef-af9d-71651b8176f5",
   "metadata": {},
   "outputs": [
    {
     "name": "stdout",
     "output_type": "stream",
     "text": [
      "local y in print_variables\n",
      "global z\n"
     ]
    }
   ],
   "source": [
    "print_variables()"
   ]
  },
  {
   "cell_type": "markdown",
   "id": "5ad0e92c-05aa-447c-a98f-2c0629bda1bd",
   "metadata": {},
   "source": [
    "**10.16 - Intro To Data Science: Time Series and Simple Linear Regression**"
   ]
  }
 ],
 "metadata": {
  "kernelspec": {
   "display_name": "Python 3 (ipykernel)",
   "language": "python",
   "name": "python3"
  },
  "language_info": {
   "codemirror_mode": {
    "name": "ipython",
    "version": 3
   },
   "file_extension": ".py",
   "mimetype": "text/x-python",
   "name": "python",
   "nbconvert_exporter": "python",
   "pygments_lexer": "ipython3",
   "version": "3.10.8"
  }
 },
 "nbformat": 4,
 "nbformat_minor": 5
}
